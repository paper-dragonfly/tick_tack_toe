{
 "cells": [
  {
   "cell_type": "code",
   "execution_count": 34,
   "metadata": {},
   "outputs": [
    {
     "name": "stdout",
     "output_type": "stream",
     "text": [
      "[['_  ', '_  ', '_  '], ['_  ', '_  ', '_  '], ['_  ', '_  ', '_  ']]\n"
     ]
    }
   ],
   "source": [
    "empty_board = [['_  ','_  ','_  '],\n",
    "               ['_  ','_  ','_  '],\n",
    "               ['_  ','_  ','_  ']]\n",
    "print(empty_board)"
   ]
  },
  {
   "cell_type": "code",
   "execution_count": 12,
   "metadata": {},
   "outputs": [
    {
     "name": "stdout",
     "output_type": "stream",
     "text": [
      "1\n"
     ]
    }
   ],
   "source": [
    "move = input(\"> \")\n",
    "r = int(move[0])\n",
    "c = int(move[2])\n",
    "\n",
    "# r = int(r)\n",
    "# c = int(c)\n",
    "list = [[1,2,3],[4,5,6],[7,8,9]]\n",
    "\n",
    "print(list[r][c])\n"
   ]
  },
  {
   "cell_type": "code",
   "execution_count": 10,
   "metadata": {},
   "outputs": [
    {
     "name": "stdout",
     "output_type": "stream",
     "text": [
      "   1  2  3\n",
      "A  _  _  _\n",
      "B  _  _  _\n",
      "C  _  _  _\n"
     ]
    },
    {
     "data": {
      "text/plain": [
       "['   1  2  3', 'A  _  _  _', 'B  _  _  _', 'C  _  _  _']"
      ]
     },
     "execution_count": 10,
     "metadata": {},
     "output_type": "execute_result"
    }
   ],
   "source": [
    "empty_board = [['_','_','_'],\n",
    "               ['_','_','_'],\n",
    "               ['_','_','_']]\n",
    "\n",
    "mid_game_board=[['o','_','_'],\n",
    "                ['x','x','_'],\n",
    "                ['_','_','o']]\n",
    "\n",
    "def display(gb):\n",
    "    gb_copy = gb.copy() \n",
    "    gb_copy.insert(0,[' ','1','2','3'])\n",
    "    letlist = [\"\",\"A\",\"B\",\"C\"]\n",
    "    for i in range(1,4):\n",
    "        gb_copy[i].insert(0,f'{letlist[i]}')\n",
    "    return gb_copy\n",
    "\n",
    "def beautiful_board(display_output):\n",
    "    string_board = []\n",
    "    for i in range(4):\n",
    "        string = (f\"\"\"{display_output[i][0]}  {display_output[i][1]}  {display_output[i][2]}  {display_output[i][3]}\"\"\")\n",
    "        print(string)\n",
    "        string_board.append(string)\n",
    "    return string_board\n",
    "\n",
    "beautiful_board(display(empty_board))"
   ]
  },
  {
   "cell_type": "code",
   "execution_count": 13,
   "metadata": {},
   "outputs": [
    {
     "name": "stdout",
     "output_type": "stream",
     "text": [
      "o wins!\n"
     ]
    },
    {
     "data": {
      "text/plain": [
       "False"
      ]
     },
     "execution_count": 13,
     "metadata": {},
     "output_type": "execute_result"
    }
   ],
   "source": [
    "vert_win_board =[['o','x','x'],\n",
    "                ['o','o','_'],\n",
    "                ['o','_','x']]\n",
    "\n",
    "def check_vert(gb):\n",
    "    for c in range(3):\n",
    "        if gb[0][c]== gb[1][c]==gb[2][c] != '_':\n",
    "            print(f'{gb[c][0]} wins!')\n",
    "    return False\n",
    "\n",
    "check_vert(vert_win_board)   "
   ]
  },
  {
   "cell_type": "code",
   "execution_count": 15,
   "metadata": {},
   "outputs": [
    {
     "name": "stdout",
     "output_type": "stream",
     "text": [
      "FISH\n"
     ]
    },
    {
     "data": {
      "text/plain": [
       "'FISHFOOD'"
      ]
     },
     "execution_count": 15,
     "metadata": {},
     "output_type": "execute_result"
    }
   ],
   "source": [
    "x = \"fish\"\n",
    "print(x.upper())\n",
    "\n",
    "def cap(word):\n",
    "    return word.upper()\n",
    "\n",
    "cap(\"fIshFood\")"
   ]
  },
  {
   "cell_type": "code",
   "execution_count": 61,
   "metadata": {},
   "outputs": [
    {
     "name": "stdout",
     "output_type": "stream",
     "text": [
      "[['hi'], [], ['j']]\n",
      "split data: ['x', '_', '_', 'x', '_', 'o', '_', '_', 'o']\n",
      "y  0\n",
      "0\n",
      "1\n",
      "2\n",
      "[['x', '_', '_'], [], []]\n",
      "y  1\n",
      "0\n",
      "1\n",
      "2\n",
      "[['x', '_', '_'], ['x', '_', '_'], []]\n",
      "y  2\n",
      "0\n",
      "1\n",
      "2\n",
      "[['x', '_', '_'], ['x', '_', '_'], ['x', '_', '_']]\n",
      "[['x', '_', '_'], ['x', '_', '_'], ['x', '_', '_']]\n"
     ]
    }
   ],
   "source": [
    "load_board = [[],[],[]]\n",
    "board2 = [[\"hi\"],[],[]]\n",
    "\n",
    "board2[2].append('j')\n",
    "print(board2)\n",
    "\n",
    "l = []\n",
    "with open('docs/ttt_game.txt') as f:\n",
    "    saved_info = f.read()\n",
    "\n",
    "data = []\n",
    "data.append(saved_info)\n",
    "split_data = saved_info.split()\n",
    "print('split data:', split_data)\n",
    "\n",
    "for y in range(3):\n",
    "    print('y ', y)\n",
    "    for i in range(3):\n",
    "        print(i)\n",
    "        load_board[y].append(split_data[i])\n",
    "    print(load_board)\n",
    "print(load_board)\n"
   ]
  },
  {
   "cell_type": "code",
   "execution_count": 59,
   "metadata": {},
   "outputs": [
    {
     "data": {
      "text/plain": [
       "'V'"
      ]
     },
     "execution_count": 59,
     "metadata": {},
     "output_type": "execute_result"
    }
   ],
   "source": [
    "v = \"very\"\n",
    "v[0].capitalize()\n"
   ]
  },
  {
   "cell_type": "code",
   "execution_count": 64,
   "metadata": {},
   "outputs": [
    {
     "name": "stdout",
     "output_type": "stream",
     "text": [
      "split data ['x', '_', '_', 'x', '_', 'o', '_', '_', 'o']\n",
      "[['x', '_', '_'], ['x', '_', 'o'], ['_', '_', 'o']]\n"
     ]
    }
   ],
   "source": [
    "with open('docs/ttt_game.txt') as f:\n",
    "    saved_info = f.read()\n",
    "\n",
    "load_board = [[],[],[]]\n",
    "data = []\n",
    "data.append(saved_info)\n",
    "split_data = saved_info.split()\n",
    "print(\"split data\", split_data)\n",
    "\n",
    "for i in range(3):\n",
    "    load_board[0].append(split_data[i])\n",
    "for i in range(3,6):\n",
    "    load_board[1].append(split_data[i])\n",
    "for i in range(6,9):\n",
    "    load_board[2].append(split_data[i])\n",
    "print(load_board) "
   ]
  },
  {
   "cell_type": "code",
   "execution_count": 74,
   "metadata": {},
   "outputs": [
    {
     "name": "stdout",
     "output_type": "stream",
     "text": [
      "o _ _\n",
      "x x _\n",
      "_ _ o\n",
      "\n",
      "[['o', '_', '_'], ['x', 'x', '_'], ['_', '_', 'o']]\n"
     ]
    }
   ],
   "source": [
    "mid_game_board=[['o','_','_'],\n",
    "                ['x','x','_'],\n",
    "                ['_','_','o']]\n",
    "\n",
    "savable_board = ''\n",
    "\n",
    "for i in range(3):\n",
    "    savable_board += ' '.join(mid_game_board[i]) + '\\n'\n",
    "print(savable_board)\n",
    "\n",
    "f = open('docs/test.txt','w')\n",
    "f.write(savable_board)\n",
    "f.close()\n",
    "\n",
    "with open('docs/test.txt') as f:\n",
    "    print(f.read())\n",
    "\n"
   ]
  },
  {
   "cell_type": "code",
   "execution_count": 78,
   "metadata": {},
   "outputs": [
    {
     "name": "stdout",
     "output_type": "stream",
     "text": [
      "o _ _\n",
      "x x _\n",
      "_ _ o\n",
      "\n"
     ]
    }
   ],
   "source": [
    "gb=[['o','_','_'],\n",
    "                ['x','x','_'],\n",
    "                ['_','_','o']]\n",
    "\n",
    "savable_board = ''\n",
    "\n",
    "for i in range(3):\n",
    "    savable_board += ' '.join(gb[i]) + '\\n'\n",
    "print(savable_board)"
   ]
  },
  {
   "cell_type": "code",
   "execution_count": 18,
   "metadata": {},
   "outputs": [
    {
     "name": "stdout",
     "output_type": "stream",
     "text": [
      "gb_str:  [[\"o\", \"_\", \"_\"], [\"x\", \"x\", \"_\"], [\"_\", \"_\", \"o\"]]\n",
      "[[\"o\", \"_\", \"_\"], [\"x\", \"x\", \"_\"], [\"_\", \"_\", \"o\"]]\n",
      "['o', '_', '_']\n"
     ]
    }
   ],
   "source": [
    "import json\n",
    "\n",
    "gb=[['o','_','_'],['x','x','_'],['_','_','o']]\n",
    "gb_str = json.dumps(gb)\n",
    "print('gb_str: ', gb_str)\n",
    "f= open('docs/test.txt','w')\n",
    "f.write(gb_str)\n",
    "f.close()\n",
    "\n",
    "\n",
    "with open('docs/test.txt') as file:\n",
    "    r_file=file.read()\n",
    "print(r_file)\n",
    "py_file = json.loads(r_file)\n",
    "print(py_file[0])"
   ]
  },
  {
   "cell_type": "code",
   "execution_count": 29,
   "metadata": {},
   "outputs": [
    {
     "name": "stdout",
     "output_type": "stream",
     "text": [
      "<_io.TextIOWrapper name='ttt_game2.txt' mode='r' encoding='UTF-8'>\n",
      "[[\"o\", \"_\", \"_\"], [\"x\", \"x\", \"_\"], [\"_\", \"_\", \"o\"]]\n",
      "pi info [['o', '_', '_'], ['x', 'x', '_'], ['_', '_', 'o']]\n"
     ]
    },
    {
     "data": {
      "text/plain": [
       "[['o', '_', '_'], ['x', 'x', '_'], ['_', '_', 'o']]"
      ]
     },
     "execution_count": 29,
     "metadata": {},
     "output_type": "execute_result"
    }
   ],
   "source": [
    "import json\n",
    "gb = [['o','_','_'],\n",
    "        ['x','x','_'],\n",
    "        ['_','_','o']]\n",
    "\n",
    "def save_game(gb):\n",
    "    board_str = json.dumps(gb)\n",
    "    save_file = open('ttt_game2.txt','w')\n",
    "    save_file.write(board_str)\n",
    "    save_file.close() \n",
    "\n",
    "    f = open(\"ttt_game2.txt\", 'r')\n",
    "    print(f)\n",
    "    print(f.read())\n",
    "    f.close()\n",
    "\n",
    "save_game(gb)\n",
    "\n",
    "def load_saved_board(file_name:str):\n",
    "\n",
    "    with open(file_name) as f:\n",
    "        py_info = json.loads(f.read())\n",
    "    print('pi info', py_info)\n",
    "    return py_info\n",
    "\n",
    "\n",
    "load_saved_board('ttt_game2.txt')\n",
    "\n"
   ]
  },
  {
   "cell_type": "code",
   "execution_count": 31,
   "metadata": {},
   "outputs": [
    {
     "data": {
      "text/plain": [
       "{'hos': 'housesh'}"
      ]
     },
     "execution_count": 31,
     "metadata": {},
     "output_type": "execute_result"
    }
   ],
   "source": [
    "x = {}\n",
    "x['hos'] = 'housesh'\n",
    "x"
   ]
  },
  {
   "cell_type": "code",
   "execution_count": 120,
   "metadata": {},
   "outputs": [
    {
     "name": "stdout",
     "output_type": "stream",
     "text": [
      "check di\n",
      "board size 4\n",
      "o\n",
      "count 1\n",
      "v\n",
      "o\n",
      "count 2\n",
      "o\n",
      "count 3\n",
      "first di checked\n",
      "count 1\n",
      "count 2\n",
      "count 3\n",
      "count 4\n",
      "di True\n"
     ]
    }
   ],
   "source": [
    "def check_di(gb):\n",
    "    board_size = len(gb)\n",
    "    \n",
    "    target = gb[0][0]\n",
    "    s_check = 0\n",
    "    for i in range(board_size):\n",
    "        if gb[i][i] == target and gb[i][i] != '_':\n",
    "            s_check += 1\n",
    "        if s_check == board_size:\n",
    "            return True \n",
    "    \n",
    "    target = gb[0][-1]\n",
    "    s_check = 0\n",
    "    for i in range(board_size):\n",
    "        if gb[i][-(i+1)] == target and gb[i][-(i+1)] != '_':\n",
    "            s_check += 1\n",
    "        if s_check == board_size:\n",
    "            return True \n",
    "    return False \n",
    "\n",
    "x_board=[['x','x','x'],\n",
    "        ['x','x','x'],\n",
    "        ['x','x','h']]\n",
    "\n",
    "four = [['o','x','_','x'],\n",
    "        ['x','v','x','x'],\n",
    "        ['_','x','o','_'],\n",
    "        ['x','x','_','o']]\n",
    "\n",
    "# print(check_di(x_board))\n",
    "print(\"di\", check_di(four))\n",
    "# print(four[0][-1])"
   ]
  },
  {
   "cell_type": "code",
   "execution_count": 75,
   "metadata": {},
   "outputs": [
    {
     "name": "stdout",
     "output_type": "stream",
     "text": [
      "check Hor\n",
      "board size:  3\n",
      "['x', 'x', 'o']\n",
      "count update: 1\n",
      "count update: 2\n",
      "['x', 'x', 'x']\n",
      "count update: 1\n",
      "count update: 2\n",
      "count update: 3\n",
      "True\n",
      "check Hor\n",
      "board size:  4\n",
      "['o', 'x', '_', 'x']\n",
      "count update: 1\n",
      "['x', 'x', 'x', 'x']\n",
      "count update: 1\n",
      "count update: 2\n",
      "count update: 3\n",
      "count update: 4\n",
      "True\n"
     ]
    }
   ],
   "source": [
    "\n",
    "def check_hor(gb):\n",
    "    print(\"check Hor\")\n",
    "    board_size = len(gb)\n",
    "    print('board size: ', board_size)\n",
    "    for r in gb:\n",
    "        s_check = 0\n",
    "        print(r)\n",
    "        target = r[0]\n",
    "        for c in r:\n",
    "            if c != '_' and c == target:\n",
    "                s_check +=1\n",
    "                print('count update:', s_check) \n",
    "                if s_check == board_size:\n",
    "                    return True \n",
    "    return False\n",
    "\n",
    "x_board=[['x','x','o'],\n",
    "        ['x','x','x'],\n",
    "        ['x','x','x']]\n",
    "\n",
    "four = [['o','x','_','x'],\n",
    "        ['x','x','x','x'],\n",
    "        ['_','x','x','_'],\n",
    "        ['z','x','_','x']]\n",
    "\n",
    "print(check_hor(x_board))\n",
    "print(check_hor(four))"
   ]
  },
  {
   "cell_type": "code",
   "execution_count": 128,
   "metadata": {},
   "outputs": [
    {
     "name": "stdout",
     "output_type": "stream",
     "text": [
      "check vert\n",
      "board size 4\n",
      "colum 1\n",
      "count update 1\n",
      "colum 2\n",
      "count update 1\n",
      "count update 2\n",
      "colum 3\n",
      "count update 1\n",
      "count update 2\n",
      "count update 3\n",
      "colum 4\n",
      "count update 1\n",
      "count update 2\n",
      "count update 3\n",
      "count update 4\n",
      "True\n"
     ]
    }
   ],
   "source": [
    "def check_vert(gb):\n",
    "    print(\"check vert\")\n",
    "    board_size = len(gb)\n",
    "    print('board size', board_size)\n",
    "    col = 0\n",
    "    for c in range(board_size):\n",
    "        s_check = 0\n",
    "        target = gb[0][c]\n",
    "        col += 1\n",
    "        print('colum', col)\n",
    "        for r in range(board_size):\n",
    "            if gb[r][c] != '_' and gb[r][c] == target:\n",
    "                s_check += 1\n",
    "                print('count update', s_check)\n",
    "                if s_check == board_size:\n",
    "                    return True\n",
    "    return False \n",
    "\n",
    "x_board=[['x','x','o'],\n",
    "        ['x','x','x'],\n",
    "        ['0','x','x']]\n",
    "\n",
    "four = [['o','x','x','x'],\n",
    "        ['x','j','x','x'],\n",
    "        ['_','j','x','x'],\n",
    "        ['z','x','_','x']]\n",
    "\n",
    "# print(check_vert(x_board))\n",
    "print(check_vert(four))\n",
    "    "
   ]
  },
  {
   "cell_type": "code",
   "execution_count": 127,
   "metadata": {},
   "outputs": [
    {
     "name": "stdout",
     "output_type": "stream",
     "text": [
      "[[' ', '1', '2', '3', '4'], ['A', 'o', 'x', 'x', 'x'], ['B', 'x', 'j', 'x', 'x'], ['C', '_', 'j', 'x', 'x'], ['D', 'z', 'x', '_', 'x']]\n",
      "[[' ', '1', '2', '3'], ['A', 'x', 'x', 'o'], ['B', 'x', 'x', 'x'], ['C', '0', 'x', 'x']]\n"
     ]
    }
   ],
   "source": [
    "import copy \n",
    "\n",
    "def display(gb):\n",
    "    gb_copy = copy.deepcopy(gb) \n",
    "    board_size = len(gb)\n",
    "    col_head = [\" \"]\n",
    "    for i in range(board_size):\n",
    "        col_head.append(str(i+1))\n",
    "    gb_copy.insert(0,col_head)\n",
    "\n",
    "    alphabet = [\"A\",\"B\",\"C\",\"D\"]\n",
    "    row_head = [\"\"]\n",
    "    for i in range(board_size): \n",
    "        row_head.append(alphabet[i])\n",
    "    for i in range(1,(board_size+1)):\n",
    "        gb_copy[i].insert(0,f'{row_head[i]}')\n",
    "    return gb_copy\n",
    "\n",
    "print(display(four))\n",
    "print(display(x_board))"
   ]
  },
  {
   "cell_type": "code",
   "execution_count": 129,
   "metadata": {},
   "outputs": [
    {
     "name": "stdout",
     "output_type": "stream",
     "text": [
      "x\n"
     ]
    }
   ],
   "source": [
    "def check_vert(gb):\n",
    "    board_size = len(gb)\n",
    "    col = 0\n",
    "    for c in range(board_size):\n",
    "        s_check = 0\n",
    "        target = gb[0][c]\n",
    "        col += 1\n",
    "        for r in range(board_size):\n",
    "            if gb[r][c] != '_' and gb[r][c] == target:\n",
    "                s_check += 1\n",
    "                if s_check == board_size:\n",
    "                    return target\n",
    "    return False\n",
    "\n",
    "four = [['o','x','x','x'],\n",
    "    ['x','j','x','x'],\n",
    "    ['_','j','x','x'],\n",
    "    ['z','x','_','x']]\n",
    "\n",
    "print(check_vert(four))"
   ]
  },
  {
   "cell_type": "code",
   "execution_count": 130,
   "metadata": {},
   "outputs": [
    {
     "name": "stdout",
     "output_type": "stream",
     "text": [
      "none empty str are True\n"
     ]
    }
   ],
   "source": [
    "if 'x' or 'y':\n",
    "    print('none empty str are True')"
   ]
  },
  {
   "cell_type": "code",
   "execution_count": 135,
   "metadata": {},
   "outputs": [
    {
     "ename": "AttributeError",
     "evalue": "'method_descriptor' object has no attribute 'today'",
     "output_type": "error",
     "traceback": [
      "\u001b[0;31m---------------------------------------------------------------------------\u001b[0m",
      "\u001b[0;31mAttributeError\u001b[0m                            Traceback (most recent call last)",
      "\u001b[1;32m/Users/katcha/NiCode_Academy/miscellaneous_projects/tick_tack_toe/roughwork.ipynb Cell 20'\u001b[0m in \u001b[0;36m<module>\u001b[0;34m\u001b[0m\n\u001b[1;32m      <a href='vscode-notebook-cell:/Users/katcha/NiCode_Academy/miscellaneous_projects/tick_tack_toe/roughwork.ipynb#ch0000019?line=0'>1</a>\u001b[0m \u001b[39mfrom\u001b[39;00m \u001b[39mdatetime\u001b[39;00m \u001b[39mimport\u001b[39;00m datetime\n\u001b[0;32m----> <a href='vscode-notebook-cell:/Users/katcha/NiCode_Academy/miscellaneous_projects/tick_tack_toe/roughwork.ipynb#ch0000019?line=2'>3</a>\u001b[0m \u001b[39mprint\u001b[39m(datetime\u001b[39m.\u001b[39;49mdate\u001b[39m.\u001b[39;49mtoday())\n\u001b[1;32m      <a href='vscode-notebook-cell:/Users/katcha/NiCode_Academy/miscellaneous_projects/tick_tack_toe/roughwork.ipynb#ch0000019?line=4'>5</a>\u001b[0m x \u001b[39m=\u001b[39m \u001b[39m'\u001b[39m\u001b[39mhi this is a thing\u001b[39m\u001b[39m'\u001b[39m\n\u001b[1;32m      <a href='vscode-notebook-cell:/Users/katcha/NiCode_Academy/miscellaneous_projects/tick_tack_toe/roughwork.ipynb#ch0000019?line=5'>6</a>\u001b[0m \u001b[39mprint\u001b[39m(x[\u001b[39m-\u001b[39m\u001b[39m1\u001b[39m])\n",
      "\u001b[0;31mAttributeError\u001b[0m: 'method_descriptor' object has no attribute 'today'"
     ]
    }
   ],
   "source": [
    "from datetime import datetime\n",
    "\n",
    "print(datetime.date.today())\n",
    "\n",
    "x = 'hi this is a thing'\n",
    "print(x[-1])"
   ]
  },
  {
   "cell_type": "code",
   "execution_count": 137,
   "metadata": {},
   "outputs": [
    {
     "name": "stdout",
     "output_type": "stream",
     "text": [
      "\n",
      "\n",
      "   1  2  3  \n",
      "A  _  _  _  \n",
      "B  _  _  _  \n",
      "C  _  _  _  \n",
      "\n"
     ]
    },
    {
     "data": {
      "text/plain": [
       "'   1  2  3  \\nA  _  _  _  \\nB  _  _  _  \\nC  _  _  _  \\n'"
      ]
     },
     "execution_count": 137,
     "metadata": {},
     "output_type": "execute_result"
    }
   ],
   "source": [
    "empty_board= [['_','_','_'],\n",
    "              ['_','_','_'],\n",
    "              ['_','_','_']]\n",
    "\n",
    "def add_axis_title(gb):\n",
    "    gb_copy = copy.deepcopy(gb) \n",
    "    board_size = len(gb)\n",
    "    col_head = [\" \"]\n",
    "    for i in range(board_size):\n",
    "        col_head.append(str(i+1))\n",
    "    gb_copy.insert(0,col_head)\n",
    "\n",
    "    alphabet = [\"A\",\"B\",\"C\",\"D\"]\n",
    "    row_head = [\"\"]\n",
    "    for i in range(board_size): \n",
    "        row_head.append(alphabet[i])\n",
    "    for i in range(1,(board_size+1)):\n",
    "        gb_copy[i].insert(0,f'{row_head[i]}')\n",
    "    return gb_copy\n",
    "\n",
    "# VISUAL | prints out board nicely\n",
    "def print_beautiful_board(gb_copy):\n",
    "    print('\\n')\n",
    "    size = len(gb_copy)\n",
    "    board_string = str()\n",
    "    for r in range(size):\n",
    "        for c in range(size):\n",
    "            board_string += f\"{gb_copy[r][c]}  \"\n",
    "        board_string += \"\\n\"\n",
    "    print(board_string)\n",
    "    return board_string\n",
    "\n",
    "print_beautiful_board(add_axis_title(empty_board))"
   ]
  },
  {
   "cell_type": "code",
   "execution_count": 139,
   "metadata": {},
   "outputs": [
    {
     "name": "stdout",
     "output_type": "stream",
     "text": [
      "[['x', 'x', 'x', 'x'], ['x', 'x', 'x', 'x'], ['x', 'x', 'x', 'x'], ['x', 'x', 'x', 'x']]\n"
     ]
    }
   ],
   "source": [
    "EMPTY_4X4_BOARD = [['_','_','_','_'],\n",
    "                    ['_','_','_','_'],\n",
    "                    ['_','_','_','_'],\n",
    "                    ['_','_','_','_']]\n",
    "\n",
    "\n",
    "def x_board(gb):\n",
    "    for r in range(4):\n",
    "        for c in range(4):\n",
    "            EMPTY_4X4_BOARD[r][c] = 'x'\n",
    "    return EMPTY_4X4_BOARD\n",
    "\n",
    "x_four_board = x_board(EMPTY_4X4_BOARD)\n",
    "print(x_four_board)\n",
    "\n",
    "\n"
   ]
  },
  {
   "cell_type": "code",
   "execution_count": 167,
   "metadata": {},
   "outputs": [
    {
     "name": "stdout",
     "output_type": "stream",
     "text": [
      "t1\n",
      "talk\n",
      "Invalid name - must type name exactly\n",
      "t1\n",
      "talk\n"
     ]
    },
    {
     "data": {
      "text/plain": [
       "([['x', 'x', 'x', 'x'],\n",
       "  ['x', 'x', 'x', 'x'],\n",
       "  ['x', 'x', 'x', 'x'],\n",
       "  ['x', 'x', 'x', 'x']],\n",
       " 'o')"
      ]
     },
     "execution_count": 167,
     "metadata": {},
     "output_type": "execute_result"
    }
   ],
   "source": [
    "def save_game(gb:str, file_name:str, next_move_symbol):\n",
    "    with open(file_name,'r') as f:\n",
    "        save_dict = json.loads(f.read())\n",
    "    save_name = input('save as: ')\n",
    "    save_dict[save_name] = {\n",
    "        'game_board' : gb,\n",
    "        'next_move' : next_move_symbol,\n",
    "        'save_time' : str(datetime.now())}    \n",
    "    save_str = json.dumps(save_dict) \n",
    "    with open(file_name, 'w') as f:\n",
    "        f.write(save_str)\n",
    "\n",
    "# save_game(x_four_board,'docs/test.txt','o')\n",
    "\n",
    "def load_saved_board(file_name:str):\n",
    "    with open(file_name) as f:    \n",
    "        f_info = f.read()\n",
    "    py_info = json.loads(f_info)\n",
    "    for key in py_info:\n",
    "        print(key) \n",
    "    game_choice = input('Choose a game to load: ')\n",
    "    try:\n",
    "        gb = py_info[game_choice]['game_board']\n",
    "        player = py_info[game_choice]['next_move']\n",
    "        return gb,player\n",
    "    except KeyError:\n",
    "        print('Invalid name - must type name exactly')\n",
    "        return load_saved_board(file_name)\n",
    "\n",
    "load_saved_board('docs/test.txt') \n"
   ]
  },
  {
   "cell_type": "code",
   "execution_count": 173,
   "metadata": {},
   "outputs": [
    {
     "name": "stdout",
     "output_type": "stream",
     "text": [
      "{'a': 1, 'b': 2}\n",
      "True\n"
     ]
    }
   ],
   "source": [
    "d = {'a':1,'b':2}\n",
    "print(d)\n",
    "if 'a' in d.keys():\n",
    "    print(True)\n",
    "else:\n",
    "    print(False)"
   ]
  },
  {
   "cell_type": "code",
   "execution_count": 184,
   "metadata": {},
   "outputs": [
    {
     "name": "stdout",
     "output_type": "stream",
     "text": [
      "[1, 2, 3]\n",
      "none here\n",
      "['a', 'b']\n",
      "i found a\n",
      "stale mate\n"
     ]
    }
   ],
   "source": [
    "lst = [[1,2,3],['a','b']]\n",
    "\n",
    "for l in lst:\n",
    "    print(l)\n",
    "    if 'a' in l:\n",
    "        print('i found a')\n",
    "        break\n",
    "    print('none here')\n",
    "\n",
    "print('stale mate')\n",
    "\n"
   ]
  },
  {
   "cell_type": "code",
   "execution_count": 188,
   "metadata": {},
   "outputs": [
    {
     "data": {
      "text/plain": [
       "2"
      ]
     },
     "execution_count": 188,
     "metadata": {},
     "output_type": "execute_result"
    }
   ],
   "source": [
    "def solution(votes, k):\n",
    "    m = max(votes)\n",
    "    pw = 0\n",
    "    for i in votes:\n",
    "        if i + k > m:\n",
    "            pw += 1\n",
    "    return pw\n",
    "\n",
    "solution([2,2,5,4],2)"
   ]
  },
  {
   "cell_type": "code",
   "execution_count": 192,
   "metadata": {},
   "outputs": [
    {
     "name": "stdout",
     "output_type": "stream",
     "text": [
      "2\n"
     ]
    }
   ],
   "source": [
    "s = '2'\n",
    "print(s.lower())"
   ]
  },
  {
   "cell_type": "code",
   "execution_count": null,
   "metadata": {},
   "outputs": [],
   "source": [
    "import re\n",
    "\n",
    "#Check if the string starts with \"The\" and ends with \"Spain\":\n",
    "\n",
    "txt = \"a The rain in Spain\"\n",
    "x = re.search(\"^(The|a).*Spain$\", txt)\n",
    "print(x)\n",
    "\n",
    "if x:\n",
    "  print(\"YES! We have a match!\")\n",
    "else:\n",
    "  print(\"No match\")"
   ]
  },
  {
   "cell_type": "code",
   "execution_count": 197,
   "metadata": {},
   "outputs": [],
   "source": [
    "import re\n",
    "\n",
    "move = 'B5'\n",
    "valid_moves = re.findall(\"^(A|B|C).*(1|2|3)$\", move)\n",
    "if valid_moves:\n",
    "    print(True)\n"
   ]
  },
  {
   "cell_type": "code",
   "execution_count": 199,
   "metadata": {},
   "outputs": [
    {
     "name": "stdout",
     "output_type": "stream",
     "text": [
      "['a1', 'b3', 'd4']\n",
      "[0, 1, 2, 3, 4, 5, 6, 7, 8]\n"
     ]
    }
   ],
   "source": [
    "s = 'a1-b3-d4'\n",
    "l = s.split(\"-\")\n",
    "print(l)\n",
    "\n",
    "print(list(range(9)))\n",
    "print(list())\n"
   ]
  },
  {
   "cell_type": "code",
   "execution_count": 209,
   "metadata": {},
   "outputs": [],
   "source": [
    "def testing():\n",
    "    print('test')\n",
    "    x = 0\n",
    "    for i in range(10):\n",
    "        print(i)\n",
    "        x = i\n",
    "        if x == 5:\n",
    "            break\n",
    "    print('did i print')\n",
    "\n",
    "\n"
   ]
  },
  {
   "cell_type": "code",
   "execution_count": 213,
   "metadata": {},
   "outputs": [
    {
     "name": "stdout",
     "output_type": "stream",
     "text": [
      "jessy\n"
     ]
    }
   ],
   "source": [
    "class X:\n",
    "    def __init__(self,name,age):\n",
    "        self.name = name\n",
    "        self.age = age\n",
    "\n",
    "jess = X('jessica',10)\n",
    "jess.name = 'jessy'\n",
    "print(jess.name)\n",
    "# jess_str = json.dumps(jess)\n",
    "\n",
    "# def save_to_test(X_str:X,file_name):\n",
    "#     with open(file_name, 'w') as f:\n",
    "#         f.write(X_str)\n",
    "\n",
    "# save_to_test(jess_str,'docs/test.txt')"
   ]
  },
  {
   "cell_type": "code",
   "execution_count": 216,
   "metadata": {},
   "outputs": [
    {
     "name": "stdout",
     "output_type": "stream",
     "text": [
      "0 ehlpn\n",
      "1 rbufs\n",
      "2 gctch\n",
      "3 ykjvd\n",
      "4 gdwtd\n",
      "5 gburz\n",
      "6 vcrxk\n",
      "7 snbjf\n",
      "8 qbwvw\n",
      "9 jvybe\n"
     ]
    }
   ],
   "source": [
    "from string import ascii_letters as alphabet\n",
    "import random\n",
    "from pathlib import touch\n",
    "alphabet = alphabet.lower()\n",
    "\n",
    "for i in range(10):\n",
    "    save_name = ''\n",
    "    for l in range(5):\n",
    "        save_name += random.choice(alphabet)\n",
    "    print(i, save_name)\n",
    "\n"
   ]
  },
  {
   "cell_type": "code",
   "execution_count": 234,
   "metadata": {},
   "outputs": [
    {
     "name": "stdout",
     "output_type": "stream",
     "text": [
      "done\n"
     ]
    }
   ],
   "source": [
    "import json\n",
    "\n",
    "file_name = f'docs/alphabetized/a.json'\n",
    "with open(file_name,'r') as f:\n",
    "    f_info = f.read()\n",
    "if f_info:\n",
    "    print(f_info, len(f_info))\n",
    "else:\n",
    "    with open(file_name,'w') as f:\n",
    "        f.write('{}').,\n",
    "\n",
    "print('done')"
   ]
  }
 ],
 "metadata": {
  "interpreter": {
   "hash": "4958416e6a983190c29994a2acc01cbfac5801240f55e1c2efdc6a5adb47ff9d"
  },
  "kernelspec": {
   "display_name": "Python 3.9.6 ('lpthw')",
   "language": "python",
   "name": "python3"
  },
  "language_info": {
   "codemirror_mode": {
    "name": "ipython",
    "version": 3
   },
   "file_extension": ".py",
   "mimetype": "text/x-python",
   "name": "python",
   "nbconvert_exporter": "python",
   "pygments_lexer": "ipython3",
   "version": "3.9.6"
  },
  "orig_nbformat": 4
 },
 "nbformat": 4,
 "nbformat_minor": 2
}
